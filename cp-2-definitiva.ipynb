{
 "cells": [
  {
   "cell_type": "code",
   "execution_count": 41,
   "metadata": {},
   "outputs": [
    {
     "name": "stdout",
     "output_type": "stream",
     "text": [
      "Os produtos cujo estoque x preços, sao menores do que 120 sao: [['Milho', 100], ['Leite', 30.0], ['Arroz', 50], ['azeitona', 90.0]]\n"
     ]
    }
   ],
   "source": [
    "#1 exercicio Utilizando for, desenvolva um algoritmo em Python para trazer os produtos, cujo estoque x preços, sejam menores do que 120.\n",
    "\n",
    "itens=[ 'Milho', 'Feijão', 'Leite', 'Açúcar', 'Arroz', 'azeitona', 'Café em Grãos']\n",
    "estoque = [20, 50, 15, 30, 5, 30, 40]\n",
    "precos = [5, 5.0, 2.0, 6.0, 10, 3.0, 3.0]\n",
    "\n",
    "# multiplicando  as listas: estoque x preço, e depois adicionando os resultados a lista 'produtos_120'\n",
    "produtos_120 = [ a * b for a, b in zip(estoque, precos)]\n",
    "# zipando as listas 'produtos_120' (lista que contem estoque x produto ja multiplicados) e 'itens' na lista 'itens_totais'\n",
    "itens_totais = list(zip(itens, produtos_120))\n",
    "# criando uma lista vazia, ela sera utilizada para adicionar os produtos, cujo estoque x preços, sejam menores do que 120.\n",
    "produto = []\n",
    "# for e utilizado para iterar os elementos de 'itens_totais' que contém pares de valores correspondentes aos itens (nomes dos produtos) e 'produtos_120' ( estoque multiplicado pelo preço).\n",
    "for item, total in itens_totais:\n",
    "# se 'total' (estoque x preco) for menor que 120\n",
    "    if total < 120:\n",
    "# o append ira adcionar a lista 'produto' os itens que o estoque x preco sao menores que 120, respectivamente com o resultado da multiplicacao de estoque x preços \n",
    "        produto.append([item,total])\n",
    "# imprimindo para o usuario quais sao os produtos em que estoque x precos sao menores que 120\n",
    "print(\"Os produtos cujo estoque x preços, sao menores do que 120 sao:\",list(produto))"
   ]
  },
  {
   "cell_type": "code",
   "execution_count": 42,
   "metadata": {},
   "outputs": [
    {
     "name": "stdout",
     "output_type": "stream",
     "text": [
      "Acesso permitido\n"
     ]
    }
   ],
   "source": [
    "#2 Crie um algoritmo para verificar se a senha,nome e cpf estão corretos, caso esteja, print acesso permitido, caso contrário, acesso negado. Utilize laços de repetição Posteriormente utilize for para percorrer as listas e verificar se atende a condição da senha, nome e cpf.\n",
    "\n",
    "nomes_corretos = [\"João Carvalho\", \"Maria Oliveira\", \"Pedro Santos\", \"Ana Souza\", \"Carlos Pereira\"]\n",
    "cpfs_corretos = [\"289.456.123-00\", \"123.654.456-00\", \"456.789.123-00\", \"321.654.987-00\", \"789.123.456-00\"]\n",
    "senhas_corretas = [\"senha123\", \"abc456\", \"mundo357\", \"admin123\", \"brasil128\"]\n",
    "\n",
    "# nesta linha estou criando a lista 'dados' aonde eu zipo as listas nomes_corretos, cpfs_corretos, senhas_corretas e colocando-os em ordem na lista 'dados' \n",
    "dados = list(zip(nomes_corretos, cpfs_corretos, senhas_corretas))\n",
    "#nas proximas 3 linhas eu peregunto ao ususario o nome, cpf e senha\n",
    "dados_nome = input(\"Digite o nome: \")\n",
    "dados_cpf = input(\"Digite o CPF: \")\n",
    "dados_senha = input(\"Digite a senha: \")\n",
    "# nesta linha eu crio a lista 'dado_user', que sera utilizada pra armazenar em uma lista os dados que o usuario escreveu\n",
    "dado_user = []\n",
    "# nas proximas 3 linhas eu adiciono os dados que o usuario inseriu com o append, na mesma ordem que os dados foram colocados com zip na lista 'dados'\n",
    "dado_user.append(dados_nome)\n",
    "dado_user.append(dados_cpf)\n",
    "dado_user.append(dados_senha)\n",
    "#criando  a variavel 'lista_encontrada' que sera utlizada futuramente para me ajudar a imprimir para o ususario se o acesso dele sera permitido ou negado\n",
    "lista_encontrada = False\n",
    "# for e utlizado para iterar os elementos de 'dados' que contem todos os dados corretos dos usuarios com nome, cpf e senha na lista dado\n",
    "for dado in dados:\n",
    "# se 'dado_user' (lista que possui os dados inseridos pelo usuario) esta dentro da lista 'dado' (lista que possui todos os dados corretos dos usuarios com os seus respectivos nomes, cpfs e senhas)\n",
    "    if dado_user == list(dado):\n",
    "# se a condicao anterior for veradeira, a variavel 'lista_encontrada' passara de False para True\n",
    "        lista_encontrada = True\n",
    "# break foi utilizado para encerrar o loop for\n",
    "        break\n",
    "# se a 'lista_encontrada' for True (ou seja, se o usuario escreveu os dados corretamente)\n",
    "if lista_encontrada == True:\n",
    "# se o ususario inseriu os dados corretamente, sera impresso a ele: Acesso permitido\n",
    "    print(\"Acesso permitido\")\n",
    "# caso a 'lista_encontrada' nao seja True\n",
    "else:\n",
    "# se o usuario nao inseriu os dados corretos, sera impresso a ele: Acesso negado\n",
    "    print(\"Acesso negado\")\n",
    "\n",
    "        \n"
   ]
  },
  {
   "cell_type": "code",
   "execution_count": 48,
   "metadata": {},
   "outputs": [
    {
     "name": "stdout",
     "output_type": "stream",
     "text": [
      "a) Total de vendas de cada produto ao longo dos quatro meses produto A ao E respectivamente: [650, 815, 605, 1190, 950, 1080, 1195]\n",
      "b) O produto mais vendido em janeiro foi: D, e ele teve 300 unidades vendidas\n",
      "b) O produto mais vendido em fevereiro foi: D, e ele teve 280 unidades vendidas\n",
      "b) O produto mais vendido em marco foi: D, e ele teve 320 unidades vendidas\n",
      "b) O produto mais vendido em abril foi: F, e ele teve 410 unidades vendidas\n",
      "c) O produto que teve o maior crescimento percentual nas vendas de janeiro a fevereiro foi C, com um crescimento de 50.0% \n",
      "d) Produtos com queda nas vendas de MARCO para ABRIL:['A', 'B', 'D']\n"
     ]
    }
   ],
   "source": [
    "#3- Você é um analista de dados de uma empresa e recebeu 4 listas contendo informações sobre as vendas dos ultimos meses.\n",
    "\n",
    "produtos = [\"A\",\"B\", \"C\", \"D\", \"E\", \"F\",\"G\"]\n",
    "vendas_janeiro=[150, 200, 100, 300, 250, 230, 250]\n",
    "vendas_fevereiro=[120, 180, 150, 280, 200, 210, 240]\n",
    "vendas_marco=[200, 220, 170, 320, 250, 230, 315]\n",
    "vendas_abril=[180, 215, 185, 290, 250, 410, 390]\n",
    "# a) Calcule o total de vendas de cada produto ao longo dos 3 meses.\n",
    "# somando todos os numeros de cada produto para decobrir o total de vendas de cada mes\n",
    "total_vendas = [sum(vendas) for vendas in zip(vendas_janeiro, vendas_fevereiro, vendas_marco, vendas_abril)]\n",
    "# imprimindo para o usuario o total de vendas de cada produto ao longo dos quatro meses.\n",
    "print(f\"a) Total de vendas de cada produto ao longo dos quatro meses produto A ao E respectivamente: {total_vendas}\")\n",
    "\n",
    "#b) Determine o produto mais vendido em cada mês.\n",
    "# nesta linha estou criando a lista 'melhor_jan' aonde eu zipo as listas: vendas_janeiro e produtos. \n",
    "melhor_jan = zip(vendas_janeiro, produtos)\n",
    "# encontrando o maior numero da lista 'vendas_janeiro' para descobrir qual foi o produto mais vendido de janeiro com o seu respectivo item da lista 'produtos'\n",
    "maior_jan, produtos_jan = max(melhor_jan)\n",
    "# imprimindo ao ususario qual foi o produto mais vendido de janeiro\n",
    "print(f\"b) O produto mais vendido em janeiro foi: {produtos_jan}, e ele teve {maior_jan} unidades vendidas\")\n",
    "\n",
    "# nesta linha estou criando a lista 'melhor_fev' aonde eu zipo as listas: vendas_fevereiro e produtos.\n",
    "melhor_fev = zip(vendas_fevereiro, produtos)\n",
    "# encontrando o maior numero da lista 'vendas_fevereiro' para descobrir qual foi o produto mais vendido de fevereiro com o seu respectivo item da lista 'produtos'\n",
    "maior_fev, produtos_fev = max(melhor_fev)\n",
    "# imprimindo ao ususario qual foi o produto mais vendido de fevereiro\n",
    "print(f\"b) O produto mais vendido em fevereiro foi: {produtos_fev}, e ele teve {maior_fev} unidades vendidas\")\n",
    "\n",
    "# nesta linha estou criando a lista 'melhor_mar' aonde eu zipo as listas: vendas_marco e produtos.\n",
    "melhor_mar = zip(vendas_marco, produtos)\n",
    "# encontrando o maior numero da lista 'vendas_marco' para descobrir qual foi o produto mais vendido de marco com o seu respectivo item da lista 'produtos'\n",
    "maior_mar, produtos_mar = max(melhor_mar)\n",
    "# imprimindo ao ususario qual foi o produto mais vendido de marco\n",
    "print(f\"b) O produto mais vendido em marco foi: {produtos_mar}, e ele teve {maior_mar} unidades vendidas\")\n",
    "\n",
    "# nesta linha estou criando a lista 'melhor_abr' aonde eu zipo as listas: vendas_abril e produtos.\n",
    "melhor_abr = zip(vendas_abril, produtos)\n",
    "# encontrando o maior numero da lista 'vendas_abril' para descobrir qual foi o produto mais vendido de abril com o seu respectivo item da lista 'produtos'\n",
    "maior_abr, produtos_abr = max(melhor_abr)\n",
    "# imprimindo ao ususario qual foi o produto mais vendido de abril\n",
    "print(f\"b) O produto mais vendido em abril foi: {produtos_abr}, e ele teve {maior_abr} unidades vendidas\")\n",
    "\n",
    "#c) Identifique o produto que teve maior crescimento percentual nas vendas de JAN a FEV.\n",
    "\n",
    "# subtraindo as listas 'vendas_fevereiro' com 'vendas_janeiro' e adicionado o resultado a 'produto_per'\n",
    "produto_per = [a - b for a, b in zip(vendas_fevereiro, vendas_janeiro)]\n",
    "# dividindo as listas 'produto_per' e 'vendas_janeiro'\n",
    "percentual_neg = [num / div for num, div in zip(produto_per, vendas_janeiro)]\n",
    "# nesta linha eu crio a lista 'resultado_per', que sera utilizada pra armazenar o resultado de 'resultado' * 100\n",
    "resultado_per = []\n",
    "# for e utlizado para iterar os elementos de 'percentual_neg' que contem o crescimento de JAN a FEV em 'percentual_neg'\n",
    "for resultado in percentual_neg:\n",
    "# multiplicando os resultados de 'percentual_neg' * 100 para termos o numero exato da % do crescimeto nas vendas de JAN a FEV\n",
    "    percentual0 = 100 *(resultado)\n",
    "# adciocioando o resultado da linha passada a lista \"resultado_per\"\n",
    "    resultado_per.append(percentual0)\n",
    "# nesta linha estou criando a lista 'percentual' aonde eu zipo as listas: resultado_per (aonde estao as porcentagens do crescimento de cada produto) e produtos.\n",
    "percentual = zip(resultado_per,produtos)\n",
    "# encontrando o maior numero da lista 'percentual' para descobrir qual foi o produto que teve maior crescimento percentual nas vendas de JAN a FEV.\n",
    "maior_per, produto_per = max(percentual)\n",
    "# imprimindo qual foi o produto que teve maior crescimento percentual nas vendas de JAN a FEV.\n",
    "print(f\"c) O produto que teve o maior crescimento percentual nas vendas de janeiro a fevereiro foi {produto_per}, com um crescimento de {maior_per}% \")\n",
    "\n",
    "\n",
    "#d) Liste os produtos que tiveram uma queda nas vendas de MARCO a ABRIL\n",
    "\n",
    "# nesta linha eu crio a lista 'resultado_com_queda', que sera utilizada pra armazenar os produtos que tiveram uma queda nas vendas de MARCO a ABRIL\n",
    "produtos_com_queda = []\n",
    "#  esta linha é uma estrutura de repetição que percorre cada elemento da lista de produtos.\n",
    "for i in range(len(produtos)):\n",
    "# verifica quais produtos venderam mais em marco que em abril\n",
    "    if vendas_marco[i] > vendas_abril[i]:\n",
    "# adiciona a lista'produtos_com_queda' os produtos que tiveram queda nas vendas de MARCO a ABRIL\n",
    "        produtos_com_queda.append(produtos[i])\n",
    "# imprime os produtos que tiveram queda nas vendas de MARCO a ABRIL\n",
    "print(f\"d) Produtos com queda nas vendas de MARCO para ABRIL:{produtos_com_queda}\")\n"
   ]
  }
 ],
 "metadata": {
  "kernelspec": {
   "display_name": "Python 3",
   "language": "python",
   "name": "python3"
  },
  "language_info": {
   "codemirror_mode": {
    "name": "ipython",
    "version": 3
   },
   "file_extension": ".py",
   "mimetype": "text/x-python",
   "name": "python",
   "nbconvert_exporter": "python",
   "pygments_lexer": "ipython3",
   "version": "3.11.5"
  },
  "orig_nbformat": 4
 },
 "nbformat": 4,
 "nbformat_minor": 2
}
